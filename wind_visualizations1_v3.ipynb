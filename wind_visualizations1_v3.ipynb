{
 "cells": [
  {
   "cell_type": "code",
   "execution_count": null,
   "metadata": {},
   "outputs": [],
   "source": []
  },
  {
   "cell_type": "markdown",
   "metadata": {},
   "source": [
    "### Imports"
   ]
  },
  {
   "cell_type": "code",
   "execution_count": 1,
   "metadata": {},
   "outputs": [],
   "source": [
    "%matplotlib inline\n",
    "\n",
    "import numpy as np\n",
    "import pandas as pd\n",
    "\n",
    "import matplotlib.pyplot as plt\n",
    "\n",
    "from fitter import Fitter\n",
    "\n",
    "import warnings\n",
    "warnings.filterwarnings(\"ignore\")"
   ]
  },
  {
   "cell_type": "markdown",
   "metadata": {},
   "source": [
    "### Data ingest and prep"
   ]
  },
  {
   "cell_type": "code",
   "execution_count": 3,
   "metadata": {},
   "outputs": [],
   "source": [
    "df = pd.read_csv('./data_in/chart_wind1_2020to2023sept25.csv')"
   ]
  },
  {
   "cell_type": "code",
   "execution_count": 4,
   "metadata": {},
   "outputs": [],
   "source": [
    "df.columns = ['Date', 'Speed', 'Gust', 'Direction']"
   ]
  },
  {
   "cell_type": "code",
   "execution_count": 5,
   "metadata": {},
   "outputs": [
    {
     "name": "stdout",
     "output_type": "stream",
     "text": [
      "(31864, 4)\n"
     ]
    },
    {
     "data": {
      "text/html": [
       "<div>\n",
       "<style scoped>\n",
       "    .dataframe tbody tr th:only-of-type {\n",
       "        vertical-align: middle;\n",
       "    }\n",
       "\n",
       "    .dataframe tbody tr th {\n",
       "        vertical-align: top;\n",
       "    }\n",
       "\n",
       "    .dataframe thead th {\n",
       "        text-align: right;\n",
       "    }\n",
       "</style>\n",
       "<table border=\"1\" class=\"dataframe\">\n",
       "  <thead>\n",
       "    <tr style=\"text-align: right;\">\n",
       "      <th></th>\n",
       "      <th>Date</th>\n",
       "      <th>Speed</th>\n",
       "      <th>Gust</th>\n",
       "      <th>Direction</th>\n",
       "    </tr>\n",
       "  </thead>\n",
       "  <tbody>\n",
       "    <tr>\n",
       "      <th>0</th>\n",
       "      <td>2019-12-31 16:53:00</td>\n",
       "      <td>6</td>\n",
       "      <td>NaN</td>\n",
       "      <td>100</td>\n",
       "    </tr>\n",
       "    <tr>\n",
       "      <th>1</th>\n",
       "      <td>2019-12-31 17:53:00</td>\n",
       "      <td>3</td>\n",
       "      <td>NaN</td>\n",
       "      <td>60</td>\n",
       "    </tr>\n",
       "    <tr>\n",
       "      <th>2</th>\n",
       "      <td>2019-12-31 18:53:00</td>\n",
       "      <td>0</td>\n",
       "      <td>NaN</td>\n",
       "      <td>0</td>\n",
       "    </tr>\n",
       "    <tr>\n",
       "      <th>3</th>\n",
       "      <td>2019-12-31 19:53:00</td>\n",
       "      <td>0</td>\n",
       "      <td>NaN</td>\n",
       "      <td>0</td>\n",
       "    </tr>\n",
       "  </tbody>\n",
       "</table>\n",
       "</div>"
      ],
      "text/plain": [
       "                 Date  Speed  Gust  Direction\n",
       "0 2019-12-31 16:53:00      6   NaN        100\n",
       "1 2019-12-31 17:53:00      3   NaN         60\n",
       "2 2019-12-31 18:53:00      0   NaN          0\n",
       "3 2019-12-31 19:53:00      0   NaN          0"
      ]
     },
     "metadata": {},
     "output_type": "display_data"
    },
    {
     "data": {
      "text/html": [
       "<div>\n",
       "<style scoped>\n",
       "    .dataframe tbody tr th:only-of-type {\n",
       "        vertical-align: middle;\n",
       "    }\n",
       "\n",
       "    .dataframe tbody tr th {\n",
       "        vertical-align: top;\n",
       "    }\n",
       "\n",
       "    .dataframe thead th {\n",
       "        text-align: right;\n",
       "    }\n",
       "</style>\n",
       "<table border=\"1\" class=\"dataframe\">\n",
       "  <thead>\n",
       "    <tr style=\"text-align: right;\">\n",
       "      <th></th>\n",
       "      <th>Date</th>\n",
       "      <th>Speed</th>\n",
       "      <th>Gust</th>\n",
       "      <th>Direction</th>\n",
       "    </tr>\n",
       "  </thead>\n",
       "  <tbody>\n",
       "    <tr>\n",
       "      <th>31860</th>\n",
       "      <td>2023-09-25 13:53:00</td>\n",
       "      <td>15</td>\n",
       "      <td>18.0</td>\n",
       "      <td>240</td>\n",
       "    </tr>\n",
       "    <tr>\n",
       "      <th>31861</th>\n",
       "      <td>2023-09-25 14:53:00</td>\n",
       "      <td>10</td>\n",
       "      <td>NaN</td>\n",
       "      <td>250</td>\n",
       "    </tr>\n",
       "    <tr>\n",
       "      <th>31862</th>\n",
       "      <td>2023-09-25 15:53:00</td>\n",
       "      <td>14</td>\n",
       "      <td>NaN</td>\n",
       "      <td>240</td>\n",
       "    </tr>\n",
       "    <tr>\n",
       "      <th>31863</th>\n",
       "      <td>2023-09-25 16:53:00</td>\n",
       "      <td>18</td>\n",
       "      <td>NaN</td>\n",
       "      <td>240</td>\n",
       "    </tr>\n",
       "  </tbody>\n",
       "</table>\n",
       "</div>"
      ],
      "text/plain": [
       "                     Date  Speed  Gust  Direction\n",
       "31860 2023-09-25 13:53:00     15  18.0        240\n",
       "31861 2023-09-25 14:53:00     10   NaN        250\n",
       "31862 2023-09-25 15:53:00     14   NaN        240\n",
       "31863 2023-09-25 16:53:00     18   NaN        240"
      ]
     },
     "metadata": {},
     "output_type": "display_data"
    }
   ],
   "source": [
    "df['Date'] = pd.to_datetime(df['Date'])\n",
    "df = df.sort_values(by='Date')\n",
    "df = df.reset_index(drop=True)\n",
    "\n",
    "print(df.shape)\n",
    "display(df.head(4))\n",
    "display(df.tail(4))"
   ]
  },
  {
   "cell_type": "markdown",
   "metadata": {},
   "source": [
    "### Data exploration"
   ]
  },
  {
   "cell_type": "code",
   "execution_count": 6,
   "metadata": {},
   "outputs": [
    {
     "name": "stdout",
     "output_type": "stream",
     "text": [
      "0\n",
      "48\n",
      "10.057054983680644\n",
      "7.28670738453888\n"
     ]
    }
   ],
   "source": [
    "print(np.min(df['Speed']))\n",
    "print(np.max(df['Speed']))\n",
    "print(np.mean(df['Speed']))\n",
    "print(np.std(df['Speed']))"
   ]
  },
  {
   "cell_type": "markdown",
   "metadata": {},
   "source": [
    "### Visualization"
   ]
  },
  {
   "cell_type": "code",
   "execution_count": 18,
   "metadata": {},
   "outputs": [
    {
     "data": {
      "image/png": "[encoded data removed]",
      "text/plain": [
       "<Figure size 500x500 with 1 Axes>"
      ]
     },
     "metadata": {},
     "output_type": "display_data"
    }
   ],
   "source": [
    "plt.figure(figsize=(7,6))\n",
    "\n",
    "plt.style.use('default')\n",
    "plt.style.use('seaborn-poster')\n",
    "plt.style.use('seaborn-whitegrid')\n",
    "\n",
    "plt.hist(df['Speed'], bins=50);\n",
    "\n",
    "plt.xlabel('Hourly Wind Speed')\n",
    "plt.ylabel('Count');"
   ]
  },
  {
   "cell_type": "code",
   "execution_count": 19,
   "metadata": {},
   "outputs": [
    {
     "data": {
      "image/png": "[encoded data removed]",
      "text/plain": [
       "<Figure size 700x600 with 1 Axes>"
      ]
     },
     "metadata": {},
     "output_type": "display_data"
    }
   ],
   "source": [
    "plt.figure(figsize=(7,6))\n",
    "\n",
    "plt.style.use('default')\n",
    "plt.style.use('seaborn-poster')\n",
    "plt.style.use('seaborn-whitegrid')\n",
    "\n",
    "plt.hist(df['Gust'], bins=50);\n",
    "\n",
    "plt.xlabel('Hourly Wind Gust')\n",
    "plt.ylabel('Count');"
   ]
  },
  {
   "cell_type": "markdown",
   "metadata": {},
   "source": [
    "### Fitting probability distributions, automatic model selection"
   ]
  },
  {
   "cell_type": "code",
   "execution_count": 9,
   "metadata": {},
   "outputs": [],
   "source": [
    "f = Fitter(df['Speed'].values)"
   ]
  },
  {
   "cell_type": "code",
   "execution_count": 10,
   "metadata": {},
   "outputs": [
    {
     "name": "stderr",
     "output_type": "stream",
     "text": [
      "SKIPPED _fit distribution (taking more than 30 seconds)\n",
      "SKIPPED burr distribution (taking more than 30 seconds)\n",
      "SKIPPED exponweib distribution (taking more than 30 seconds)\n",
      "SKIPPED f distribution (taking more than 30 seconds)\n",
      "SKIPPED fatiguelife distribution (taking more than 30 seconds)\n",
      "SKIPPED fisk distribution (taking more than 30 seconds)\n",
      "SKIPPED gausshyper distribution (taking more than 30 seconds)\n",
      "SKIPPED genexpon distribution (taking more than 30 seconds)\n",
      "SKIPPED genextreme distribution (taking more than 30 seconds)\n",
      "SKIPPED gengamma distribution (taking more than 30 seconds)\n",
      "SKIPPED genhalflogistic distribution (taking more than 30 seconds)\n",
      "SKIPPED genhyperbolic distribution (taking more than 30 seconds)\n",
      "SKIPPED geninvgauss distribution (taking more than 30 seconds)\n",
      "SKIPPED genlogistic distribution (taking more than 30 seconds)\n",
      "SKIPPED genpareto distribution (taking more than 30 seconds)\n",
      "SKIPPED gibrat distribution (taking more than 30 seconds)\n",
      "SKIPPED gompertz distribution (taking more than 30 seconds)\n",
      "SKIPPED kstwo distribution (taking more than 30 seconds)\n",
      "SKIPPED halfgennorm distribution (taking more than 30 seconds)\n",
      "SKIPPED halflogistic distribution (taking more than 30 seconds)\n",
      "SKIPPED invgamma distribution (taking more than 30 seconds)\n",
      "SKIPPED invgauss distribution (taking more than 30 seconds)\n",
      "SKIPPED invweibull distribution (taking more than 30 seconds)\n",
      "SKIPPED johnsonsb distribution (taking more than 30 seconds)\n",
      "SKIPPED johnsonsu distribution (taking more than 30 seconds)\n",
      "SKIPPED kappa3 distribution (taking more than 30 seconds)\n",
      "SKIPPED kappa4 distribution (taking more than 30 seconds)\n",
      "SKIPPED ksone distribution (taking more than 30 seconds)\n",
      "SKIPPED laplace_asymmetric distribution (taking more than 30 seconds)\n",
      "SKIPPED levy distribution (taking more than 30 seconds)\n",
      "SKIPPED levy_l distribution (taking more than 30 seconds)\n",
      "SKIPPED levy_stable distribution (taking more than 30 seconds)\n",
      "SKIPPED loggamma distribution (taking more than 30 seconds)\n",
      "SKIPPED loglaplace distribution (taking more than 30 seconds)\n",
      "SKIPPED lognorm distribution (taking more than 30 seconds)\n",
      "SKIPPED loguniform distribution (taking more than 30 seconds)\n",
      "SKIPPED lomax distribution (taking more than 30 seconds)\n",
      "SKIPPED mielke distribution (taking more than 30 seconds)\n",
      "SKIPPED nakagami distribution (taking more than 30 seconds)\n",
      "SKIPPED nct distribution (taking more than 30 seconds)\n",
      "SKIPPED ncf distribution (taking more than 30 seconds)\n",
      "SKIPPED rv_continuous distribution (taking more than 30 seconds)\n",
      "SKIPPED rv_histogram distribution (taking more than 30 seconds)\n",
      "SKIPPED ncx2 distribution (taking more than 30 seconds)\n",
      "SKIPPED norminvgauss distribution (taking more than 30 seconds)\n",
      "SKIPPED pearson3 distribution (taking more than 30 seconds)\n",
      "SKIPPED powerlaw distribution (taking more than 30 seconds)\n",
      "SKIPPED powerlognorm distribution (taking more than 30 seconds)\n",
      "SKIPPED powernorm distribution (taking more than 30 seconds)\n",
      "SKIPPED rdist distribution (taking more than 30 seconds)\n",
      "SKIPPED recipinvgauss distribution (taking more than 30 seconds)\n",
      "SKIPPED reciprocal distribution (taking more than 30 seconds)\n",
      "SKIPPED rel_breitwigner distribution (taking more than 30 seconds)\n",
      "SKIPPED rice distribution (taking more than 30 seconds)\n",
      "SKIPPED semicircular distribution (taking more than 30 seconds)\n",
      "SKIPPED skewcauchy distribution (taking more than 30 seconds)\n",
      "SKIPPED vonmises_fisher distribution (taking more than 30 seconds)\n",
      "SKIPPED skewnorm distribution (taking more than 30 seconds)\n",
      "SKIPPED studentized_range distribution (taking more than 30 seconds)\n",
      "SKIPPED t distribution (taking more than 30 seconds)\n",
      "SKIPPED trapezoid distribution (taking more than 30 seconds)\n",
      "SKIPPED trapz distribution (taking more than 30 seconds)\n",
      "SKIPPED triang distribution (taking more than 30 seconds)\n",
      "SKIPPED truncexpon distribution (taking more than 30 seconds)\n",
      "SKIPPED truncnorm distribution (taking more than 30 seconds)\n",
      "SKIPPED truncpareto distribution (taking more than 30 seconds)\n",
      "SKIPPED truncweibull_min distribution (taking more than 30 seconds)\n",
      "SKIPPED tukeylambda distribution (taking more than 30 seconds)\n",
      "SKIPPED vonmises_line distribution (taking more than 30 seconds)\n",
      "SKIPPED weibull_max distribution (taking more than 30 seconds)\n",
      "SKIPPED wald distribution (taking more than 30 seconds)\n",
      "SKIPPED weibull_min distribution (taking more than 30 seconds)\n",
      "SKIPPED wrapcauchy distribution (taking more than 30 seconds)\n"
     ]
    }
   ],
   "source": [
    "f.fit()"
   ]
  },
  {
   "cell_type": "code",
   "execution_count": 11,
   "metadata": {},
   "outputs": [
    {
     "data": {
      "text/html": [
       "<div>\n",
       "<style scoped>\n",
       "    .dataframe tbody tr th:only-of-type {\n",
       "        vertical-align: middle;\n",
       "    }\n",
       "\n",
       "    .dataframe tbody tr th {\n",
       "        vertical-align: top;\n",
       "    }\n",
       "\n",
       "    .dataframe thead th {\n",
       "        text-align: right;\n",
       "    }\n",
       "</style>\n",
       "<table border=\"1\" class=\"dataframe\">\n",
       "  <thead>\n",
       "    <tr style=\"text-align: right;\">\n",
       "      <th></th>\n",
       "      <th>sumsquare_error</th>\n",
       "      <th>aic</th>\n",
       "      <th>bic</th>\n",
       "      <th>kl_div</th>\n",
       "      <th>ks_statistic</th>\n",
       "      <th>ks_pvalue</th>\n",
       "    </tr>\n",
       "  </thead>\n",
       "  <tbody>\n",
       "    <tr>\n",
       "      <th>exponpow</th>\n",
       "      <td>0.173213</td>\n",
       "      <td>1105.327055</td>\n",
       "      <td>1130.434751</td>\n",
       "      <td>inf</td>\n",
       "      <td>0.137614</td>\n",
       "      <td>0.000000e+00</td>\n",
       "    </tr>\n",
       "    <tr>\n",
       "      <th>foldnorm</th>\n",
       "      <td>0.176713</td>\n",
       "      <td>1123.327960</td>\n",
       "      <td>1148.435656</td>\n",
       "      <td>inf</td>\n",
       "      <td>0.120983</td>\n",
       "      <td>0.000000e+00</td>\n",
       "    </tr>\n",
       "    <tr>\n",
       "      <th>halfnorm</th>\n",
       "      <td>0.177033</td>\n",
       "      <td>1050.919749</td>\n",
       "      <td>1067.658214</td>\n",
       "      <td>inf</td>\n",
       "      <td>0.120983</td>\n",
       "      <td>0.000000e+00</td>\n",
       "    </tr>\n",
       "    <tr>\n",
       "      <th>kstwobign</th>\n",
       "      <td>0.181558</td>\n",
       "      <td>1076.220622</td>\n",
       "      <td>1092.959086</td>\n",
       "      <td>inf</td>\n",
       "      <td>0.080060</td>\n",
       "      <td>4.260186e-178</td>\n",
       "    </tr>\n",
       "    <tr>\n",
       "      <th>alpha</th>\n",
       "      <td>0.181719</td>\n",
       "      <td>1005.818236</td>\n",
       "      <td>1030.925932</td>\n",
       "      <td>inf</td>\n",
       "      <td>0.076496</td>\n",
       "      <td>1.308178e-162</td>\n",
       "    </tr>\n",
       "  </tbody>\n",
       "</table>\n",
       "</div>"
      ],
      "text/plain": [
       "           sumsquare_error          aic          bic  kl_div  ks_statistic  \\\n",
       "exponpow          0.173213  1105.327055  1130.434751     inf      0.137614   \n",
       "foldnorm          0.176713  1123.327960  1148.435656     inf      0.120983   \n",
       "halfnorm          0.177033  1050.919749  1067.658214     inf      0.120983   \n",
       "kstwobign         0.181558  1076.220622  1092.959086     inf      0.080060   \n",
       "alpha             0.181719  1005.818236  1030.925932     inf      0.076496   \n",
       "\n",
       "               ks_pvalue  \n",
       "exponpow    0.000000e+00  \n",
       "foldnorm    0.000000e+00  \n",
       "halfnorm    0.000000e+00  \n",
       "kstwobign  4.260186e-178  \n",
       "alpha      1.308178e-162  "
      ]
     },
     "execution_count": 11,
     "metadata": {},
     "output_type": "execute_result"
    },
    {
     "data": {
      "image/png": "[encoded data removed]",
      "text/plain": [
       "<Figure size 432x288 with 1 Axes>"
      ]
     },
     "metadata": {
      "needs_background": "light"
     },
     "output_type": "display_data"
    }
   ],
   "source": [
    "f.summary()"
   ]
  },
  {
   "cell_type": "code",
   "execution_count": null,
   "metadata": {},
   "outputs": [],
   "source": []
  }
 ],
 "metadata": {
  "kernelspec": {
   "display_name": "Python 3",
   "language": "python",
   "name": "python3"
  },
  "language_info": {
   "codemirror_mode": {
    "name": "ipython",
    "version": 3
   },
   "file_extension": ".py",
   "mimetype": "text/x-python",
   "name": "python",
   "nbconvert_exporter": "python",
   "pygments_lexer": "ipython3",
   "version": "3.8.5"
  }
 },
 "nbformat": 4,
 "nbformat_minor": 5
}
